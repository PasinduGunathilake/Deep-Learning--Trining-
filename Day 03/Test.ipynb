{
 "cells": [
  {
   "cell_type": "code",
   "execution_count": null,
   "id": "3ef908a9",
   "metadata": {},
   "outputs": [],
   "source": [
    "# Iris flower Classification model using Feed Forward neural network"
   ]
  },
  {
   "cell_type": "code",
   "execution_count": null,
   "id": "b4a7a5f5",
   "metadata": {},
   "outputs": [],
   "source": [
    "import pandas as pd\n",
    "import numpy as np\n",
    "\n",
    "dataset = pd.read_csv('iris.csv').values\n",
    "print(dataset)\n",
    "# 0 ==> Iris-setosa \n",
    "# 1 ==> Iris-versicolor\n",
    "# 2 ==> Iris-virginica\n"
   ]
  },
  {
   "cell_type": "code",
   "execution_count": null,
   "id": "1f6d796c-c634-4df7-b857-27a0c5f22ff8",
   "metadata": {},
   "outputs": [],
   "source": [
    "data = dataset[:,:4] # slice features/data from dataset\n",
    "print(data)"
   ]
  },
  {
   "cell_type": "code",
   "execution_count": null,
   "id": "b6f7d868",
   "metadata": {},
   "outputs": [],
   "source": [
    "target = dataset[:,4] # slice the labels/tareget from dataset\n",
    "print(target)"
   ]
  },
  {
   "cell_type": "code",
   "execution_count": null,
   "id": "536a0946",
   "metadata": {},
   "outputs": [],
   "source": [
    "#keras is a high-level neural networks API, written in Python and capable of running on top of TensorFlow, CNTK, or Theano.\n",
    "#Dense layer is the regular deeply connected (fully connected) neural network layer. It is most common and frequently used layer.\n",
    "from keras.models import Sequential\n",
    "from keras.layers import Dense \n",
    "\n",
    "model = Sequential() #create empty nn model "
   ]
  },
  {
   "cell_type": "code",
   "execution_count": null,
   "id": "cba8e828",
   "metadata": {},
   "outputs": [],
   "source": [
    "#add layer 1(1st hidden layer) with 16 neurons, input_dim=4 as we have 4 features/data, activation function is relu\n",
    "model.add(Dense(16000, input_dim=4, activation='relu')) \n",
    "\n",
    "#add layer 2(2nd hidden layer) with 40 neurons, activation function is relu\n",
    "model.add(Dense(40, activation='relu'))\n",
    "\n",
    "#add layer 3(3rd hidden layer) with 40 neurons, activation function is relu\n",
    "model.add(Dense(10, activation='relu'))\n",
    "\n",
    "#add layer 4(output layer) with 3 neurons, activation function is softmax\n",
    "model.add(Dense(3, activation='softmax'))\n",
    "\n"
   ]
  },
  {
   "cell_type": "code",
   "execution_count": null,
   "id": "85d4fe09",
   "metadata": {},
   "outputs": [],
   "source": [
    "#compile the model/finalize the model with loss function, optimizer and metrics\n",
    "model.compile(loss='categorical_crossentropy', optimizer = 'adam' ) "
   ]
  },
  {
   "cell_type": "code",
   "execution_count": null,
   "id": "68fa2c8b",
   "metadata": {},
   "outputs": [],
   "source": [
    "model.summary() #print model summary"
   ]
  },
  {
   "cell_type": "code",
   "execution_count": null,
   "id": "1d0c984f",
   "metadata": {},
   "outputs": [],
   "source": [
    "#converts a class vector (integers) to binary class matrix.\n",
    "from keras.utils import to_categorical \n",
    "\n",
    "new_target = to_categorical(target)\n",
    "print(new_target)\n",
    "\n",
    "# 0 ==> Iris-setosa ==> [1,0,0]\n",
    "# 1 ==> Iris-versicolor ==> [0,1,0]\n",
    "# 2 ==> Iris-virginica ==> [0,0,1]"
   ]
  },
  {
   "cell_type": "code",
   "execution_count": null,
   "id": "6bfff497",
   "metadata": {},
   "outputs": [],
   "source": [
    "#validation of model\n",
    "from sklearn.model_selection import train_test_split\n",
    "\n",
    "#split data into training and testing data\n",
    "train_data,test_data,train_target,test_target = train_test_split(data,new_target,test_size = 0.2)\n",
    "#test_size=0.2 means 20% of data is used for testing and 80% for training\n"
   ]
  },
  {
   "cell_type": "code",
   "execution_count": null,
   "id": "08be2304",
   "metadata": {},
   "outputs": [],
   "source": [
    "print(train_data.shape) #train data/train target size = 150*0.8 = 120\n",
    "print(train_data)"
   ]
  },
  {
   "cell_type": "code",
   "execution_count": null,
   "id": "6b20cb57",
   "metadata": {},
   "outputs": [],
   "source": [
    "print(train_target)"
   ]
  },
  {
   "cell_type": "code",
   "execution_count": null,
   "id": "04984f42",
   "metadata": {},
   "outputs": [],
   "source": [
    "print(test_data.shape) #test data/test target size = 150*0.2 = 30\n",
    "print(test_data)"
   ]
  },
  {
   "cell_type": "code",
   "execution_count": null,
   "id": "ab18e01c",
   "metadata": {},
   "outputs": [],
   "source": [
    "print(test_target.shape)\n",
    "print(test_target)"
   ]
  },
  {
   "cell_type": "code",
   "execution_count": null,
   "id": "ea97c606",
   "metadata": {},
   "outputs": [],
   "source": [
    "# Training the model\n",
    "# parameters: train_data, train_target, epochs, validation_data, batch_size(batch or mini-batch or stochastic gradient descent/depeding on the data size)\n",
    "#if batch_size=1 then it is stochastic gradient descent, if batch_size=120 total data size then it is batch gradient descent , if batch_size=mini-batch then it is mini-batch gradient descent\n",
    "# epochs is the number of times the model is trained on the training data\n",
    "model.fit(train_data,train_target,epochs = 200, validation_data=(test_data,test_target), batch_size=4)"
   ]
  }
 ],
 "metadata": {
  "kernelspec": {
   "display_name": "Python 3",
   "language": "python",
   "name": "python3"
  },
  "language_info": {
   "codemirror_mode": {
    "name": "ipython",
    "version": 3
   },
   "file_extension": ".py",
   "mimetype": "text/x-python",
   "name": "python",
   "nbconvert_exporter": "python",
   "pygments_lexer": "ipython3",
   "version": "3.12.2"
  }
 },
 "nbformat": 4,
 "nbformat_minor": 5
}
