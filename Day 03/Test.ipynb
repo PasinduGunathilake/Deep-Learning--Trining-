{
 "cells": [
  {
   "cell_type": "code",
   "execution_count": null,
   "id": "7f87495a-462f-4d7e-b22e-7f5d1fb920ab",
   "metadata": {},
   "outputs": [],
   "source": [
    "import pandas as pd\n",
    "import numpy as np\n",
    "\n",
    "dataset = pd.read_csv('iris.csv').values\n",
    "print(dataset)"
   ]
  },
  {
   "cell_type": "code",
   "execution_count": null,
   "id": "1f6d796c-c634-4df7-b857-27a0c5f22ff8",
   "metadata": {},
   "outputs": [],
   "source": [
    "data = dataset[:,:4]\n",
    "target = dataset[:,4]"
   ]
  },
  {
   "cell_type": "code",
   "execution_count": null,
   "id": "b6f7d868",
   "metadata": {},
   "outputs": [],
   "source": []
  }
 ],
 "metadata": {
  "kernelspec": {
   "display_name": "Python 3",
   "language": "python",
   "name": "python3"
  },
  "language_info": {
   "codemirror_mode": {
    "name": "ipython",
    "version": 3
   },
   "file_extension": ".py",
   "mimetype": "text/x-python",
   "name": "python",
   "nbconvert_exporter": "python",
   "pygments_lexer": "ipython3",
   "version": "3.12.2"
  }
 },
 "nbformat": 4,
 "nbformat_minor": 5
}
